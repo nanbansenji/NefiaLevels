{
 "cells": [
  {
   "cell_type": "code",
   "execution_count": 19,
   "metadata": {},
   "outputs": [
    {
     "name": "stdout",
     "output_type": "stream",
     "text": [
      "lv. 1\n",
      "Min.\t1stQu.\tMedian\tMean\t3rdQu.\tMax.\n",
      "1\t3.0\t5.0\t15.6276\t21.0\t150\n",
      "\n",
      "lv. 5\n",
      "Min.\t1stQu.\tMedian\tMean\t3rdQu.\tMax.\n",
      "1\t4.0\t8.0\t16.6963\t22.0\t150\n",
      "\n",
      "lv. 10\n",
      "Min.\t1stQu.\tMedian\tMean\t3rdQu.\tMax.\n",
      "1\t6.0\t11.0\t18.2625\t22.0\t150\n",
      "\n",
      "lv. 25\n",
      "Min.\t1stQu.\tMedian\tMean\t3rdQu.\tMax.\n",
      "1\t9.0\t19.0\t22.5301\t28.0\t150\n",
      "\n",
      "lv. 50\n",
      "Min.\t1stQu.\tMedian\tMean\t3rdQu.\tMax.\n",
      "1\t14.0\t28.0\t30.1049\t42.0\t150\n",
      "\n"
     ]
    }
   ],
   "source": [
    "import numpy as np\n",
    "from numpy import random\n",
    "from scipy import stats\n",
    "from enum import Enum\n",
    "\n",
    "def nefia_level(lv):\n",
    "    # _create_nefia関数\n",
    "    # 10/15 は[1, LV+5]で一様分布\n",
    "    # 4/15 で[1, 50] \n",
    "    # 1/15 で[1, 50] * 3 \n",
    "\n",
    "    case = random.randint(15)\n",
    "    if case in range(0, 9):\n",
    "        return random.randint(lv + 5) + 1\n",
    "    elif case in range(9, 14):\n",
    "        return (random.randint(50) + 1)\n",
    "    elif case == 14:\n",
    "        return (random.randint(50) + 1) * 3\n",
    "    else:\n",
    "        raise Exception\n",
    "def nefia_level_list(lv, amount):\n",
    "    return np.array([nefia_level(lv) for i in range(amount)])\n",
    "\n",
    "def stat_print(np_list):\n",
    "    qt = np.percentile(np_list, [25, 75])\n",
    "    print('Min.\\t''1stQu.\\t''Median\\t''Mean\\t''3rdQu.\\t''Max.\\n' \\\n",
    "          + str(np_list.min()) + '\\t' + str(qt[0]) + '\\t' + str(np.median(np_list)) + '\\t' \\\n",
    "          + str(np_list.mean()) + '\\t' + str(qt[1]) + '\\t' + str(np_list.max()) + '\\n')\n",
    "\n",
    "def simulate_nefia_levels(lv):\n",
    "    list = nefia_level_list(lv, 10000)\n",
    "    print('lv. ' + str(lv))\n",
    "    stat_print(list)\n",
    "\n",
    "if __name__ == '__main__':\n",
    "    simulate_nefia_levels(1)\n",
    "    simulate_nefia_levels(5)\n",
    "    simulate_nefia_levels(10)\n",
    "    simulate_nefia_levels(25)\n",
    "    simulate_nefia_levels(50)\n"
   ]
  },
  {
   "cell_type": "code",
   "execution_count": null,
   "metadata": {},
   "outputs": [],
   "source": []
  }
 ],
 "metadata": {
  "kernelspec": {
   "display_name": "Python 3",
   "language": "python",
   "name": "python3"
  },
  "language_info": {
   "codemirror_mode": {
    "name": "ipython",
    "version": 3
   },
   "file_extension": ".py",
   "mimetype": "text/x-python",
   "name": "python",
   "nbconvert_exporter": "python",
   "pygments_lexer": "ipython3",
   "version": "3.7.2"
  }
 },
 "nbformat": 4,
 "nbformat_minor": 2
}
