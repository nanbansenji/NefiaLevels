{
 "cells": [
  {
   "cell_type": "code",
   "execution_count": 4,
   "metadata": {},
   "outputs": [
    {
     "name": "stdout",
     "output_type": "stream",
     "text": [
      "最大値: 150\t最小値: 1\n",
      "平均値: 15.8644\t中央値: 5.0\n",
      "[ 3.  5. 22.]\n",
      "最大値: 150\t最小値: 1\n",
      "平均値: 16.9433\t中央値: 8.0\n",
      "[ 4.  8. 22.]\n",
      "最大値: 150\t最小値: 1\n",
      "平均値: 18.1596\t中央値: 11.0\n",
      "[ 6. 11. 21.]\n",
      "最大値: 150\t最小値: 1\n",
      "平均値: 22.987\t中央値: 19.0\n",
      "[10. 19. 28.]\n",
      "最大値: 150\t最小値: 1\n",
      "平均値: 30.228\t中央値: 28.0\n",
      "[15. 28. 42.]\n"
     ]
    }
   ],
   "source": [
    "import numpy as np\n",
    "from numpy import random\n",
    "from scipy import stats\n",
    "from enum import Enum\n",
    "\n",
    "def nefia_level(lv):\n",
    "  # _create_nefia関数\n",
    "  # 10/15 は[1, LV+5]で一様分布\n",
    "  # 4/15 で[1, 50] \n",
    "  # 1/15 で[1, 50] * 3 \n",
    "\n",
    "  case = random.randint(15)\n",
    "  if case in range(0, 9):\n",
    "    return random.randint(lv + 5) + 1\n",
    "  elif case in range(9, 14):\n",
    "    return (random.randint(50) + 1)\n",
    "  elif case == 14:\n",
    "    return (random.randint(50) + 1) * 3\n",
    "  else:\n",
    "    raise Exception\n",
    "def nefia_level_list(lv, amount):\n",
    "  return np.array([nefia_level(lv) for i in range(amount)])\n",
    "\n",
    "def stat_print(np_list):\n",
    "  print(\"最大値: \"+str(np_list.max()) + \"\\t最小値: \"+str(np_list.min()))\n",
    "  print(\"平均値: \"+str(np_list.mean()) + \"\\t中央値: \"+str(np.median(np_list)))\n",
    "  print(np.percentile(np_list, [25, 50, 75]))\n",
    "\n",
    "if __name__ == '__main__':\n",
    "  lv_list_1 = nefia_level_list(1, 10000)\n",
    "  stat_print(lv_list_1)\n",
    "\n",
    "  lv_list_5 = nefia_level_list(5, 10000)\n",
    "  stat_print(lv_list_5)\n",
    "\n",
    "  lv_list_10 = nefia_level_list(10, 10000)\n",
    "  stat_print(lv_list_10)\n",
    "\n",
    "  lv_list_25 = nefia_level_list(25, 10000)\n",
    "  stat_print(lv_list_25)\n",
    "  \n",
    "  lv_list_50 = nefia_level_list(50, 10000)\n",
    "  stat_print(lv_list_50)"
   ]
  },
  {
   "cell_type": "code",
   "execution_count": null,
   "metadata": {},
   "outputs": [],
   "source": []
  },
  {
   "cell_type": "code",
   "execution_count": null,
   "metadata": {},
   "outputs": [],
   "source": []
  }
 ],
 "metadata": {
  "kernelspec": {
   "display_name": "Python 3",
   "language": "python",
   "name": "python3"
  },
  "language_info": {
   "codemirror_mode": {
    "name": "ipython",
    "version": 3
   },
   "file_extension": ".py",
   "mimetype": "text/x-python",
   "name": "python",
   "nbconvert_exporter": "python",
   "pygments_lexer": "ipython3",
   "version": "3.7.2"
  }
 },
 "nbformat": 4,
 "nbformat_minor": 2
}
